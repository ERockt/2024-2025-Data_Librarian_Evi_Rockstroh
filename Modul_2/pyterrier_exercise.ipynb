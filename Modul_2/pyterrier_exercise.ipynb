{
 "cells": [
  {
   "cell_type": "code",
   "execution_count": null,
   "metadata": {},
   "outputs": [],
   "source": [
    "#learn more about pyterrier: https://pyterrier.readthedocs.io/en/latest/"
   ]
  },
  {
   "cell_type": "markdown",
   "metadata": {},
   "source": [
    "Aufgabe: Bitte nutzt jetzt die Json Datei, die ihr durch Aufgabe 1 erhalten habt. Führt den kompletten Indexierungsvorgang mit PyTerrrier durch. Der Python Code der von euch gefordert wird, ist durch ??? markiert.\n",
    "Stellt euch die folgenden Fragen:\n",
    "* Welche Spalten aus dem Dataframe könnten als Id und welche als Text Feld benutzt werden?\n",
    "* Welche Felder sollen indexiert werden?\n",
    "* Was ist wichtig für die Indexierungspipeline?\n",
    "* Zusatzaufgabe: Wie könnten beim Suchvorgang Publikationen gefiltert werden, deren Erscheinungsjahr nicht zwischen 2015 und 2020 ist? Passt dazu eure Definition der Suchmaschine an.\n"
   ]
  },
  {
   "cell_type": "code",
   "execution_count": 1,
   "metadata": {},
   "outputs": [],
   "source": [
    "import pyterrier as pt\n",
    "import pandas as pd\n",
    "import pickle\n",
    "import numpy as np"
   ]
  },
  {
   "cell_type": "code",
   "execution_count": 2,
   "metadata": {},
   "outputs": [],
   "source": [
    "#path = ???\n",
    "data = pd.read_json(\"./literature.json\")"
   ]
  },
  {
   "cell_type": "code",
   "execution_count": 3,
   "metadata": {},
   "outputs": [
    {
     "data": {
      "text/html": [
       "<div>\n",
       "<style scoped>\n",
       "    .dataframe tbody tr th:only-of-type {\n",
       "        vertical-align: middle;\n",
       "    }\n",
       "\n",
       "    .dataframe tbody tr th {\n",
       "        vertical-align: top;\n",
       "    }\n",
       "\n",
       "    .dataframe thead th {\n",
       "        text-align: right;\n",
       "    }\n",
       "</style>\n",
       "<table border=\"1\" class=\"dataframe\">\n",
       "  <thead>\n",
       "    <tr style=\"text-align: right;\">\n",
       "      <th></th>\n",
       "      <th>query</th>\n",
       "      <th>title</th>\n",
       "      <th>url</th>\n",
       "      <th>year</th>\n",
       "      <th>authors</th>\n",
       "      <th>abstract</th>\n",
       "      <th>source</th>\n",
       "    </tr>\n",
       "  </thead>\n",
       "  <tbody>\n",
       "    <tr>\n",
       "      <th>0</th>\n",
       "      <td>artificial intelligence</td>\n",
       "      <td>Artificial Intelligence in Agriculture</td>\n",
       "      <td>https://www.ijtsrd.com/engineering/electrical-...</td>\n",
       "      <td>2021</td>\n",
       "      <td>[Matthew N. O. Sadiku, Sarhan M. Musa, Abayomi...</td>\n",
       "      <td>Artificial Intelligence is one of the emerging...</td>\n",
       "      <td>bibsonomy</td>\n",
       "    </tr>\n",
       "    <tr>\n",
       "      <th>1</th>\n",
       "      <td>artificial intelligence</td>\n",
       "      <td>Artificial Intelligence Benefit and Risks</td>\n",
       "      <td>https://www.ijtsrd.com/computer-science/artifi...</td>\n",
       "      <td>2020</td>\n",
       "      <td>[Seeta M. Chauhan]</td>\n",
       "      <td>this article demonstrate Disadvantage of artif...</td>\n",
       "      <td>bibsonomy</td>\n",
       "    </tr>\n",
       "    <tr>\n",
       "      <th>2</th>\n",
       "      <td>artificial intelligence</td>\n",
       "      <td>Artificial Intelligence in Power Station</td>\n",
       "      <td>https://www.ijtsrd.com/engineering/electrical-...</td>\n",
       "      <td>2019</td>\n",
       "      <td>[P. Naveen, S. Nikitha, P. Sudeesh, V. Vaishnavi]</td>\n",
       "      <td>With increased competitiveness in power genera...</td>\n",
       "      <td>bibsonomy</td>\n",
       "    </tr>\n",
       "    <tr>\n",
       "      <th>3</th>\n",
       "      <td>artificial intelligence</td>\n",
       "      <td>Artificial Intelligence Based Training and Pla...</td>\n",
       "      <td>http://www.ijtsrd.com/computer-science/artific...</td>\n",
       "      <td>2018</td>\n",
       "      <td>[Krishanu Deb, Pankaj Agrawal, Harish Nawale, ...</td>\n",
       "      <td>Training and placement cell in colleges is to ...</td>\n",
       "      <td>bibsonomy</td>\n",
       "    </tr>\n",
       "    <tr>\n",
       "      <th>4</th>\n",
       "      <td>artificial intelligence</td>\n",
       "      <td>The Significance of Artificial Intelligence in...</td>\n",
       "      <td>https://www.ijtsrd.com/computer-science/artifi...</td>\n",
       "      <td>2023</td>\n",
       "      <td>[Dr. Atul Kumar Mishra]</td>\n",
       "      <td>In an increasingly digitalized world, the util...</td>\n",
       "      <td>bibsonomy</td>\n",
       "    </tr>\n",
       "    <tr>\n",
       "      <th>...</th>\n",
       "      <td>...</td>\n",
       "      <td>...</td>\n",
       "      <td>...</td>\n",
       "      <td>...</td>\n",
       "      <td>...</td>\n",
       "      <td>...</td>\n",
       "      <td>...</td>\n",
       "    </tr>\n",
       "    <tr>\n",
       "      <th>4737</th>\n",
       "      <td>large language model</td>\n",
       "      <td>Phonologically Aware Neural Model for Named En...</td>\n",
       "      <td>https://www.semanticscholar.org/paper/f1a8ff55...</td>\n",
       "      <td>2016</td>\n",
       "      <td>[Akash Bharadwaj, David R. Mortensen, Chris Dy...</td>\n",
       "      <td>Named Entity Recognition is a well established...</td>\n",
       "      <td>semantic_scholar</td>\n",
       "    </tr>\n",
       "    <tr>\n",
       "      <th>4738</th>\n",
       "      <td>large language model</td>\n",
       "      <td>Large-Scale Distributed Language Modeling</td>\n",
       "      <td>https://www.semanticscholar.org/paper/591080c3...</td>\n",
       "      <td>2007</td>\n",
       "      <td>[Ahmad Emami, K. Papineni, Jeffrey Scott Soren...</td>\n",
       "      <td>A novel distributed language model that has no...</td>\n",
       "      <td>semantic_scholar</td>\n",
       "    </tr>\n",
       "    <tr>\n",
       "      <th>4739</th>\n",
       "      <td>large language model</td>\n",
       "      <td>BERT for Joint Intent Classification and Slot ...</td>\n",
       "      <td>https://www.semanticscholar.org/paper/476029ac...</td>\n",
       "      <td>2019</td>\n",
       "      <td>[Qian Chen, Zhu Zhuo, Wen Wang]</td>\n",
       "      <td>Intent classification and slot filling are two...</td>\n",
       "      <td>semantic_scholar</td>\n",
       "    </tr>\n",
       "    <tr>\n",
       "      <th>4740</th>\n",
       "      <td>large language model</td>\n",
       "      <td>Language and Translation Model Adaptation usin...</td>\n",
       "      <td>https://www.semanticscholar.org/paper/b281a9d0...</td>\n",
       "      <td>2008</td>\n",
       "      <td>[M. Snover, B. Dorr, R. Schwartz]</td>\n",
       "      <td>Traditionally, statistical machine translation...</td>\n",
       "      <td>semantic_scholar</td>\n",
       "    </tr>\n",
       "    <tr>\n",
       "      <th>4741</th>\n",
       "      <td>large language model</td>\n",
       "      <td>Commonsense Knowledge Mining from Pretrained M...</td>\n",
       "      <td>https://www.semanticscholar.org/paper/f98e1359...</td>\n",
       "      <td>2019</td>\n",
       "      <td>[Joshua Feldman, Joe Davison, Alexander M. Rush]</td>\n",
       "      <td>Inferring commonsense knowledge is a key chall...</td>\n",
       "      <td>semantic_scholar</td>\n",
       "    </tr>\n",
       "  </tbody>\n",
       "</table>\n",
       "<p>4742 rows × 7 columns</p>\n",
       "</div>"
      ],
      "text/plain": [
       "                        query  \\\n",
       "0     artificial intelligence   \n",
       "1     artificial intelligence   \n",
       "2     artificial intelligence   \n",
       "3     artificial intelligence   \n",
       "4     artificial intelligence   \n",
       "...                       ...   \n",
       "4737     large language model   \n",
       "4738     large language model   \n",
       "4739     large language model   \n",
       "4740     large language model   \n",
       "4741     large language model   \n",
       "\n",
       "                                                  title  \\\n",
       "0                Artificial Intelligence in Agriculture   \n",
       "1             Artificial Intelligence Benefit and Risks   \n",
       "2              Artificial Intelligence in Power Station   \n",
       "3     Artificial Intelligence Based Training and Pla...   \n",
       "4     The Significance of Artificial Intelligence in...   \n",
       "...                                                 ...   \n",
       "4737  Phonologically Aware Neural Model for Named En...   \n",
       "4738          Large-Scale Distributed Language Modeling   \n",
       "4739  BERT for Joint Intent Classification and Slot ...   \n",
       "4740  Language and Translation Model Adaptation usin...   \n",
       "4741  Commonsense Knowledge Mining from Pretrained M...   \n",
       "\n",
       "                                                    url  year  \\\n",
       "0     https://www.ijtsrd.com/engineering/electrical-...  2021   \n",
       "1     https://www.ijtsrd.com/computer-science/artifi...  2020   \n",
       "2     https://www.ijtsrd.com/engineering/electrical-...  2019   \n",
       "3     http://www.ijtsrd.com/computer-science/artific...  2018   \n",
       "4     https://www.ijtsrd.com/computer-science/artifi...  2023   \n",
       "...                                                 ...   ...   \n",
       "4737  https://www.semanticscholar.org/paper/f1a8ff55...  2016   \n",
       "4738  https://www.semanticscholar.org/paper/591080c3...  2007   \n",
       "4739  https://www.semanticscholar.org/paper/476029ac...  2019   \n",
       "4740  https://www.semanticscholar.org/paper/b281a9d0...  2008   \n",
       "4741  https://www.semanticscholar.org/paper/f98e1359...  2019   \n",
       "\n",
       "                                                authors  \\\n",
       "0     [Matthew N. O. Sadiku, Sarhan M. Musa, Abayomi...   \n",
       "1                                    [Seeta M. Chauhan]   \n",
       "2     [P. Naveen, S. Nikitha, P. Sudeesh, V. Vaishnavi]   \n",
       "3     [Krishanu Deb, Pankaj Agrawal, Harish Nawale, ...   \n",
       "4                               [Dr. Atul Kumar Mishra]   \n",
       "...                                                 ...   \n",
       "4737  [Akash Bharadwaj, David R. Mortensen, Chris Dy...   \n",
       "4738  [Ahmad Emami, K. Papineni, Jeffrey Scott Soren...   \n",
       "4739                    [Qian Chen, Zhu Zhuo, Wen Wang]   \n",
       "4740                  [M. Snover, B. Dorr, R. Schwartz]   \n",
       "4741   [Joshua Feldman, Joe Davison, Alexander M. Rush]   \n",
       "\n",
       "                                               abstract            source  \n",
       "0     Artificial Intelligence is one of the emerging...         bibsonomy  \n",
       "1     this article demonstrate Disadvantage of artif...         bibsonomy  \n",
       "2     With increased competitiveness in power genera...         bibsonomy  \n",
       "3     Training and placement cell in colleges is to ...         bibsonomy  \n",
       "4     In an increasingly digitalized world, the util...         bibsonomy  \n",
       "...                                                 ...               ...  \n",
       "4737  Named Entity Recognition is a well established...  semantic_scholar  \n",
       "4738  A novel distributed language model that has no...  semantic_scholar  \n",
       "4739  Intent classification and slot filling are two...  semantic_scholar  \n",
       "4740  Traditionally, statistical machine translation...  semantic_scholar  \n",
       "4741  Inferring commonsense knowledge is a key chall...  semantic_scholar  \n",
       "\n",
       "[4742 rows x 7 columns]"
      ]
     },
     "execution_count": 3,
     "metadata": {},
     "output_type": "execute_result"
    }
   ],
   "source": [
    "data"
   ]
  },
  {
   "cell_type": "code",
   "execution_count": 4,
   "metadata": {},
   "outputs": [
    {
     "name": "stderr",
     "output_type": "stream",
     "text": [
      "/tmp/ipykernel_20388/2275133231.py:2: DeprecationWarning: Call to deprecated function (or staticmethod) started. (use pt.java.started() instead) -- Deprecated since version 0.11.0.\n",
      "  if not pt.started():\n",
      "Java started and loaded: pyterrier.java, pyterrier.terrier.java [version=5.11 (build: craig.macdonald 2025-01-13 21:29), helper_version=0.0.8]\n",
      "/tmp/ipykernel_20388/2275133231.py:3: DeprecationWarning: Call to deprecated method pt.init(). Deprecated since version 0.11.0.\n",
      "java is now started automatically with default settings. To force initialisation early, run:\n",
      "pt.java.init() # optional, forces java initialisation\n",
      "  pt.init()\n"
     ]
    }
   ],
   "source": [
    "#initialise pyterrier\n",
    "if not pt.started():\n",
    "    pt.init()"
   ]
  },
  {
   "cell_type": "code",
   "execution_count": 10,
   "metadata": {},
   "outputs": [],
   "source": [
    "#pyterrier exspects a docno field\n",
    "#data['docno'] = ???\n",
    "#data['text'] = ???\n",
    "data['docno'] = data['url']\n",
    "data['text'] = data['title']\n",
    "\n",
    "#year field should be string to simplify indexing \n",
    "data['year'] = data['year'].astype('str')"
   ]
  },
  {
   "cell_type": "code",
   "execution_count": 11,
   "metadata": {},
   "outputs": [],
   "source": [
    "#transfrom dataframe into list of dictionaries\n",
    "data_dict = data.to_dict(orient='records')"
   ]
  },
  {
   "cell_type": "code",
   "execution_count": 12,
   "metadata": {},
   "outputs": [
    {
     "ename": "ValueError",
     "evalue": "Use fields and text_attrs constructor kwargs",
     "output_type": "error",
     "traceback": [
      "\u001b[0;31m---------------------------------------------------------------------------\u001b[0m",
      "\u001b[0;31mValueError\u001b[0m                                Traceback (most recent call last)",
      "Cell \u001b[0;32mIn[12], line 7\u001b[0m\n\u001b[1;32m      4\u001b[0m fields\u001b[38;5;241m=\u001b[39m[\u001b[38;5;124m'\u001b[39m\u001b[38;5;124mdocno\u001b[39m\u001b[38;5;124m'\u001b[39m, \u001b[38;5;124m'\u001b[39m\u001b[38;5;124mtext\u001b[39m\u001b[38;5;124m'\u001b[39m, \u001b[38;5;124m'\u001b[39m\u001b[38;5;124mauthors\u001b[39m\u001b[38;5;124m'\u001b[39m, \u001b[38;5;124m'\u001b[39m\u001b[38;5;124myear\u001b[39m\u001b[38;5;124m'\u001b[39m, \u001b[38;5;124m'\u001b[39m\u001b[38;5;124mtitle\u001b[39m\u001b[38;5;124m'\u001b[39m]\n\u001b[1;32m      6\u001b[0m indexer_mult \u001b[38;5;241m=\u001b[39m pt\u001b[38;5;241m.\u001b[39mIterDictIndexer(index_folder_mult, meta\u001b[38;5;241m=\u001b[39m{\u001b[38;5;124m'\u001b[39m\u001b[38;5;124mdocno\u001b[39m\u001b[38;5;124m'\u001b[39m: \u001b[38;5;241m1024\u001b[39m, \u001b[38;5;124m'\u001b[39m\u001b[38;5;124mtext\u001b[39m\u001b[38;5;124m'\u001b[39m: \u001b[38;5;241m4096\u001b[39m, \u001b[38;5;124m'\u001b[39m\u001b[38;5;124myear\u001b[39m\u001b[38;5;124m'\u001b[39m : \u001b[38;5;241m1024\u001b[39m}, overwrite\u001b[38;5;241m=\u001b[39m\u001b[38;5;28;01mTrue\u001b[39;00m, fields\u001b[38;5;241m=\u001b[39m\u001b[38;5;28;01mTrue\u001b[39;00m, text_attrs\u001b[38;5;241m=\u001b[39mfields)\n\u001b[0;32m----> 7\u001b[0m index_ref_mult \u001b[38;5;241m=\u001b[39m indexer_mult\u001b[38;5;241m.\u001b[39mindex(data_dict, fields\u001b[38;5;241m=\u001b[39mfields)\n\u001b[1;32m      9\u001b[0m \u001b[38;5;28mprint\u001b[39m(\u001b[38;5;124mf\u001b[39m\u001b[38;5;124m\"\u001b[39m\u001b[38;5;124mpath to our index: \u001b[39m\u001b[38;5;132;01m{\u001b[39;00mindex_ref_mult\u001b[38;5;241m.\u001b[39mtoString()\u001b[38;5;132;01m}\u001b[39;00m\u001b[38;5;124m\"\u001b[39m)\n",
      "File \u001b[0;32m~/anaconda3/lib/python3.12/site-packages/pyterrier/utils.py:208\u001b[0m, in \u001b[0;36mpre_invocation_decorator.<locals>._decorator_wrapper.<locals>._wrapper\u001b[0;34m(*args, **kwargs)\u001b[0m\n\u001b[1;32m    205\u001b[0m \u001b[38;5;129m@wraps\u001b[39m(fn)\n\u001b[1;32m    206\u001b[0m \u001b[38;5;28;01mdef\u001b[39;00m \u001b[38;5;21m_wrapper\u001b[39m(\u001b[38;5;241m*\u001b[39margs, \u001b[38;5;241m*\u001b[39m\u001b[38;5;241m*\u001b[39mkwargs):\n\u001b[1;32m    207\u001b[0m     decorator(fn)\n\u001b[0;32m--> 208\u001b[0m     \u001b[38;5;28;01mreturn\u001b[39;00m fn(\u001b[38;5;241m*\u001b[39margs, \u001b[38;5;241m*\u001b[39m\u001b[38;5;241m*\u001b[39mkwargs)\n",
      "File \u001b[0;32m~/anaconda3/lib/python3.12/site-packages/pyterrier/terrier/index.py:727\u001b[0m, in \u001b[0;36m_IterDictIndexer_fifo.index\u001b[0;34m(self, it, fields)\u001b[0m\n\u001b[1;32m    725\u001b[0m \u001b[38;5;28;01mif\u001b[39;00m fields \u001b[38;5;129;01mis\u001b[39;00m \u001b[38;5;129;01mnot\u001b[39;00m \u001b[38;5;28;01mNone\u001b[39;00m:\n\u001b[1;32m    726\u001b[0m     \u001b[38;5;28;01mif\u001b[39;00m \u001b[38;5;28mlen\u001b[39m(fields) \u001b[38;5;241m>\u001b[39m \u001b[38;5;241m1\u001b[39m:\n\u001b[0;32m--> 727\u001b[0m         \u001b[38;5;28;01mraise\u001b[39;00m \u001b[38;5;167;01mValueError\u001b[39;00m(\u001b[38;5;124m\"\u001b[39m\u001b[38;5;124mUse fields and text_attrs constructor kwargs\u001b[39m\u001b[38;5;124m\"\u001b[39m)\n\u001b[1;32m    728\u001b[0m     \u001b[38;5;28;01mraise\u001b[39;00m \u001b[38;5;167;01mValueError\u001b[39;00m(\u001b[38;5;124m\"\u001b[39m\u001b[38;5;124mSpecify the text attribute to index in the constructor.\u001b[39m\u001b[38;5;124m\"\u001b[39m)\n\u001b[1;32m    730\u001b[0m \u001b[38;5;28mself\u001b[39m\u001b[38;5;241m.\u001b[39m_setup()\n",
      "\u001b[0;31mValueError\u001b[0m: Use fields and text_attrs constructor kwargs"
     ]
    }
   ],
   "source": [
    "index_folder_mult = \"./ai_llm_index\"\n",
    "\n",
    "#fields = ???\n",
    "fields=['docno', 'text', 'authors', 'year', 'title']\n",
    "\n",
    "indexer_mult = pt.IterDictIndexer(index_folder_mult, meta={'docno': 1024, 'text': 4096, 'year' : 1024}, overwrite=True, fields=True, text_attrs=fields)\n",
    "index_ref_mult = indexer_mult.index(data_dict, fields=fields)\n",
    "\n",
    "print(f\"path to our index: {index_ref_mult.toString()}\")"
   ]
  },
  {
   "cell_type": "code",
   "execution_count": 13,
   "metadata": {},
   "outputs": [
    {
     "ename": "NameError",
     "evalue": "name 'index_ref_mult' is not defined",
     "output_type": "error",
     "traceback": [
      "\u001b[0;31m---------------------------------------------------------------------------\u001b[0m",
      "\u001b[0;31mNameError\u001b[0m                                 Traceback (most recent call last)",
      "Cell \u001b[0;32mIn[13], line 2\u001b[0m\n\u001b[1;32m      1\u001b[0m \u001b[38;5;66;03m#index_mult = ???\u001b[39;00m\n\u001b[0;32m----> 2\u001b[0m index_mult \u001b[38;5;241m=\u001b[39mpt\u001b[38;5;241m.\u001b[39mIndexFactory\u001b[38;5;241m.\u001b[39mof(index_ref_mult)\n",
      "\u001b[0;31mNameError\u001b[0m: name 'index_ref_mult' is not defined"
     ]
    }
   ],
   "source": [
    "#index_mult = ???\n",
    "index_mult =pt.IndexFactory.of(index_ref_mult)"
   ]
  },
  {
   "cell_type": "code",
   "execution_count": null,
   "metadata": {},
   "outputs": [],
   "source": [
    "print(index_mult.getCollectionStatistics().toString())"
   ]
  },
  {
   "cell_type": "code",
   "execution_count": null,
   "metadata": {},
   "outputs": [],
   "source": [
    "search_engine_mult = pt.BatchRetrieve(index_mult, wmodel=\"TF_IDF\")"
   ]
  },
  {
   "cell_type": "code",
   "execution_count": null,
   "metadata": {},
   "outputs": [],
   "source": [
    "res = search_engine_mult.search(\"sentiment analysis\")"
   ]
  },
  {
   "cell_type": "code",
   "execution_count": null,
   "metadata": {},
   "outputs": [],
   "source": [
    "search_engine = pt.BatchRetrieve(index_mult, wmodel=\"TF_IDF\", metadata=[\"docno\", \"year\"]) \n",
    "\n",
    "rank_filter = pt.apply.generic(lambda res : res[res[\"rank\"] < 10])\n",
    "\n",
    "search_engine_year_filter = search_engine >> rank_filter"
   ]
  },
  {
   "cell_type": "code",
   "execution_count": null,
   "metadata": {},
   "outputs": [],
   "source": [
    "search_engine_mult.search(\"sentiment analysis\")"
   ]
  }
 ],
 "metadata": {
  "kernelspec": {
   "display_name": "Python 3 (ipykernel)",
   "language": "python",
   "name": "python3"
  },
  "language_info": {
   "codemirror_mode": {
    "name": "ipython",
    "version": 3
   },
   "file_extension": ".py",
   "mimetype": "text/x-python",
   "name": "python",
   "nbconvert_exporter": "python",
   "pygments_lexer": "ipython3",
   "version": "3.12.7"
  }
 },
 "nbformat": 4,
 "nbformat_minor": 4
}
