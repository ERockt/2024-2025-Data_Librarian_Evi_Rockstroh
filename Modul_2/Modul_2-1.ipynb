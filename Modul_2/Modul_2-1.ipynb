{
 "cells": [
  {
   "cell_type": "code",
   "execution_count": 1,
   "id": "c3054189-f98d-492c-9ef1-c1b6fc2f0ecd",
   "metadata": {},
   "outputs": [],
   "source": [
    "import pandas as pd\n",
    "import json\n",
    "import os"
   ]
  },
  {
   "cell_type": "code",
   "execution_count": 6,
   "id": "1accdba6-573c-4114-a4c1-c066ee399f47",
   "metadata": {},
   "outputs": [],
   "source": [
    "from pandas import json_normalize"
   ]
  },
  {
   "cell_type": "code",
   "execution_count": 7,
   "id": "807aa44e-572c-48d1-82f7-84c86091f0d3",
   "metadata": {},
   "outputs": [],
   "source": [
    "openaccess_data = json.load(open('openaccess.json'))\n",
    "opendata_data = json.load(open('opendata.json'))"
   ]
  },
  {
   "cell_type": "code",
   "execution_count": 8,
   "id": "9f603340-623b-40eb-af69-5528a86ffd3e",
   "metadata": {},
   "outputs": [],
   "source": [
    "openaccess_df = json_normalize(openaccess_data)\n",
    "opendata_df = json_normalize(opendata_data)"
   ]
  },
  {
   "cell_type": "code",
   "execution_count": 9,
   "id": "a01530a6-ccd9-4bc8-be72-6d1637aee0ca",
   "metadata": {},
   "outputs": [],
   "source": [
    "openaccess_df['Suchterm'] = 'OpenAccess'\n",
    "opendata_df['Suchterm'] = 'OpenData'"
   ]
  },
  {
   "cell_type": "code",
   "execution_count": 11,
   "id": "53f88b55-9f52-4cf9-b6e3-f40de2e68c7b",
   "metadata": {},
   "outputs": [],
   "source": [
    "combined_df = pd.concat([openaccess_df, opendata_df], ignore_index=True)"
   ]
  },
  {
   "cell_type": "markdown",
   "id": "4fae6166-8c11-4dad-94a9-1126dce9dea1",
   "metadata": {},
   "source": [
    "combined_df.to_json('combined_results.json', orient='records', lines=True)"
   ]
  },
  {
   "cell_type": "raw",
   "id": "47f4c742-cd2e-4f39-93a1-877956f43a66",
   "metadata": {},
   "source": [
    "print(combined_df.head())"
   ]
  },
  {
   "cell_type": "code",
   "execution_count": 12,
   "id": "9639f844-56d5-40fa-93dd-17ae70f6d3a4",
   "metadata": {},
   "outputs": [
    {
     "data": {
      "text/html": [
       "<div>\n",
       "<style scoped>\n",
       "    .dataframe tbody tr th:only-of-type {\n",
       "        vertical-align: middle;\n",
       "    }\n",
       "\n",
       "    .dataframe tbody tr th {\n",
       "        vertical-align: top;\n",
       "    }\n",
       "\n",
       "    .dataframe thead th {\n",
       "        text-align: right;\n",
       "    }\n",
       "</style>\n",
       "<table border=\"1\" class=\"dataframe\">\n",
       "  <thead>\n",
       "    <tr style=\"text-align: right;\">\n",
       "      <th></th>\n",
       "      <th>items</th>\n",
       "      <th>types.Bookmark.pluralLabel</th>\n",
       "      <th>types.Publication.pluralLabel</th>\n",
       "      <th>types.GoldStandardPublication.pluralLabel</th>\n",
       "      <th>types.GoldStandardBookmark.pluralLabel</th>\n",
       "      <th>types.Tag.pluralLabel</th>\n",
       "      <th>types.User.pluralLabel</th>\n",
       "      <th>types.Group.pluralLabel</th>\n",
       "      <th>types.Sphere.pluralLabel</th>\n",
       "      <th>properties.count.valueType</th>\n",
       "      <th>properties.date.valueType</th>\n",
       "      <th>properties.changeDate.valueType</th>\n",
       "      <th>properties.url.valueType</th>\n",
       "      <th>properties.id.valueType</th>\n",
       "      <th>properties.tags.valueType</th>\n",
       "      <th>properties.user.valueType</th>\n",
       "      <th>Suchterm</th>\n",
       "    </tr>\n",
       "  </thead>\n",
       "  <tbody>\n",
       "    <tr>\n",
       "      <th>0</th>\n",
       "      <td>[{'type': 'Bookmark', 'id': 'https://www.bibso...</td>\n",
       "      <td>Bookmarks</td>\n",
       "      <td>Publications</td>\n",
       "      <td>GoldStandardPublications</td>\n",
       "      <td>GoldStandardBookmarks</td>\n",
       "      <td>Tags</td>\n",
       "      <td>Users</td>\n",
       "      <td>Groups</td>\n",
       "      <td>Spheres</td>\n",
       "      <td>number</td>\n",
       "      <td>date</td>\n",
       "      <td>date</td>\n",
       "      <td>url</td>\n",
       "      <td>url</td>\n",
       "      <td>item</td>\n",
       "      <td>item</td>\n",
       "      <td>OpenAccess</td>\n",
       "    </tr>\n",
       "    <tr>\n",
       "      <th>1</th>\n",
       "      <td>[{'type': 'Bookmark', 'id': 'https://www.bibso...</td>\n",
       "      <td>Bookmarks</td>\n",
       "      <td>Publications</td>\n",
       "      <td>GoldStandardPublications</td>\n",
       "      <td>GoldStandardBookmarks</td>\n",
       "      <td>Tags</td>\n",
       "      <td>Users</td>\n",
       "      <td>Groups</td>\n",
       "      <td>Spheres</td>\n",
       "      <td>number</td>\n",
       "      <td>date</td>\n",
       "      <td>date</td>\n",
       "      <td>url</td>\n",
       "      <td>url</td>\n",
       "      <td>item</td>\n",
       "      <td>item</td>\n",
       "      <td>OpenData</td>\n",
       "    </tr>\n",
       "  </tbody>\n",
       "</table>\n",
       "</div>"
      ],
      "text/plain": [
       "                                               items  \\\n",
       "0  [{'type': 'Bookmark', 'id': 'https://www.bibso...   \n",
       "1  [{'type': 'Bookmark', 'id': 'https://www.bibso...   \n",
       "\n",
       "  types.Bookmark.pluralLabel types.Publication.pluralLabel  \\\n",
       "0                  Bookmarks                  Publications   \n",
       "1                  Bookmarks                  Publications   \n",
       "\n",
       "  types.GoldStandardPublication.pluralLabel  \\\n",
       "0                  GoldStandardPublications   \n",
       "1                  GoldStandardPublications   \n",
       "\n",
       "  types.GoldStandardBookmark.pluralLabel types.Tag.pluralLabel  \\\n",
       "0                  GoldStandardBookmarks                  Tags   \n",
       "1                  GoldStandardBookmarks                  Tags   \n",
       "\n",
       "  types.User.pluralLabel types.Group.pluralLabel types.Sphere.pluralLabel  \\\n",
       "0                  Users                  Groups                  Spheres   \n",
       "1                  Users                  Groups                  Spheres   \n",
       "\n",
       "  properties.count.valueType properties.date.valueType  \\\n",
       "0                     number                      date   \n",
       "1                     number                      date   \n",
       "\n",
       "  properties.changeDate.valueType properties.url.valueType  \\\n",
       "0                            date                      url   \n",
       "1                            date                      url   \n",
       "\n",
       "  properties.id.valueType properties.tags.valueType properties.user.valueType  \\\n",
       "0                     url                      item                      item   \n",
       "1                     url                      item                      item   \n",
       "\n",
       "     Suchterm  \n",
       "0  OpenAccess  \n",
       "1    OpenData  "
      ]
     },
     "execution_count": 12,
     "metadata": {},
     "output_type": "execute_result"
    }
   ],
   "source": [
    "combined_df.head()"
   ]
  },
  {
   "cell_type": "code",
   "execution_count": 13,
   "id": "c3ec0434-7748-44b9-be5a-b46b3a724f5f",
   "metadata": {},
   "outputs": [
    {
     "data": {
      "text/html": [
       "<div>\n",
       "<style scoped>\n",
       "    .dataframe tbody tr th:only-of-type {\n",
       "        vertical-align: middle;\n",
       "    }\n",
       "\n",
       "    .dataframe tbody tr th {\n",
       "        vertical-align: top;\n",
       "    }\n",
       "\n",
       "    .dataframe thead th {\n",
       "        text-align: right;\n",
       "    }\n",
       "</style>\n",
       "<table border=\"1\" class=\"dataframe\">\n",
       "  <thead>\n",
       "    <tr style=\"text-align: right;\">\n",
       "      <th></th>\n",
       "      <th>items</th>\n",
       "      <th>types.Bookmark.pluralLabel</th>\n",
       "      <th>types.Publication.pluralLabel</th>\n",
       "      <th>types.GoldStandardPublication.pluralLabel</th>\n",
       "      <th>types.GoldStandardBookmark.pluralLabel</th>\n",
       "      <th>types.Tag.pluralLabel</th>\n",
       "      <th>types.User.pluralLabel</th>\n",
       "      <th>types.Group.pluralLabel</th>\n",
       "      <th>types.Sphere.pluralLabel</th>\n",
       "      <th>properties.count.valueType</th>\n",
       "      <th>properties.date.valueType</th>\n",
       "      <th>properties.changeDate.valueType</th>\n",
       "      <th>properties.url.valueType</th>\n",
       "      <th>properties.id.valueType</th>\n",
       "      <th>properties.tags.valueType</th>\n",
       "      <th>properties.user.valueType</th>\n",
       "      <th>Suchterm</th>\n",
       "    </tr>\n",
       "  </thead>\n",
       "  <tbody>\n",
       "    <tr>\n",
       "      <th>0</th>\n",
       "      <td>[{'type': 'Bookmark', 'id': 'https://www.bibso...</td>\n",
       "      <td>Bookmarks</td>\n",
       "      <td>Publications</td>\n",
       "      <td>GoldStandardPublications</td>\n",
       "      <td>GoldStandardBookmarks</td>\n",
       "      <td>Tags</td>\n",
       "      <td>Users</td>\n",
       "      <td>Groups</td>\n",
       "      <td>Spheres</td>\n",
       "      <td>number</td>\n",
       "      <td>date</td>\n",
       "      <td>date</td>\n",
       "      <td>url</td>\n",
       "      <td>url</td>\n",
       "      <td>item</td>\n",
       "      <td>item</td>\n",
       "      <td>OpenAccess</td>\n",
       "    </tr>\n",
       "    <tr>\n",
       "      <th>1</th>\n",
       "      <td>[{'type': 'Bookmark', 'id': 'https://www.bibso...</td>\n",
       "      <td>Bookmarks</td>\n",
       "      <td>Publications</td>\n",
       "      <td>GoldStandardPublications</td>\n",
       "      <td>GoldStandardBookmarks</td>\n",
       "      <td>Tags</td>\n",
       "      <td>Users</td>\n",
       "      <td>Groups</td>\n",
       "      <td>Spheres</td>\n",
       "      <td>number</td>\n",
       "      <td>date</td>\n",
       "      <td>date</td>\n",
       "      <td>url</td>\n",
       "      <td>url</td>\n",
       "      <td>item</td>\n",
       "      <td>item</td>\n",
       "      <td>OpenData</td>\n",
       "    </tr>\n",
       "  </tbody>\n",
       "</table>\n",
       "</div>"
      ],
      "text/plain": [
       "                                               items  \\\n",
       "0  [{'type': 'Bookmark', 'id': 'https://www.bibso...   \n",
       "1  [{'type': 'Bookmark', 'id': 'https://www.bibso...   \n",
       "\n",
       "  types.Bookmark.pluralLabel types.Publication.pluralLabel  \\\n",
       "0                  Bookmarks                  Publications   \n",
       "1                  Bookmarks                  Publications   \n",
       "\n",
       "  types.GoldStandardPublication.pluralLabel  \\\n",
       "0                  GoldStandardPublications   \n",
       "1                  GoldStandardPublications   \n",
       "\n",
       "  types.GoldStandardBookmark.pluralLabel types.Tag.pluralLabel  \\\n",
       "0                  GoldStandardBookmarks                  Tags   \n",
       "1                  GoldStandardBookmarks                  Tags   \n",
       "\n",
       "  types.User.pluralLabel types.Group.pluralLabel types.Sphere.pluralLabel  \\\n",
       "0                  Users                  Groups                  Spheres   \n",
       "1                  Users                  Groups                  Spheres   \n",
       "\n",
       "  properties.count.valueType properties.date.valueType  \\\n",
       "0                     number                      date   \n",
       "1                     number                      date   \n",
       "\n",
       "  properties.changeDate.valueType properties.url.valueType  \\\n",
       "0                            date                      url   \n",
       "1                            date                      url   \n",
       "\n",
       "  properties.id.valueType properties.tags.valueType properties.user.valueType  \\\n",
       "0                     url                      item                      item   \n",
       "1                     url                      item                      item   \n",
       "\n",
       "     Suchterm  \n",
       "0  OpenAccess  \n",
       "1    OpenData  "
      ]
     },
     "execution_count": 13,
     "metadata": {},
     "output_type": "execute_result"
    }
   ],
   "source": [
    "combined_df"
   ]
  },
  {
   "cell_type": "code",
   "execution_count": 19,
   "id": "ac38e874-bf9b-4323-98ad-b8242b9bbbdb",
   "metadata": {},
   "outputs": [
    {
     "ename": "SyntaxError",
     "evalue": "incomplete input (388360184.py, line 1)",
     "output_type": "error",
     "traceback": [
      "\u001b[0;36m  Cell \u001b[0;32mIn[19], line 1\u001b[0;36m\u001b[0m\n\u001b[0;31m    filtered_df = combined_df[combined_df['items'].apply(lambda x:'Publications' in x if isinstance(x, list) else False)\u001b[0m\n\u001b[0m                                                                                                                        ^\u001b[0m\n\u001b[0;31mSyntaxError\u001b[0m\u001b[0;31m:\u001b[0m incomplete input\n"
     ]
    }
   ],
   "source": [
    "filtered_df = combined_df[combined_df['items'].apply(lambda x:'Publications' in x if isinstance(x, list) else False)"
   ]
  },
  {
   "cell_type": "code",
   "execution_count": 20,
   "id": "28c40cb5-1d0a-40e5-b689-2255317445a9",
   "metadata": {},
   "outputs": [
    {
     "name": "stdout",
     "output_type": "stream",
     "text": [
      "0    [{'type': 'Bookmark', 'id': 'https://www.bibso...\n",
      "1    [{'type': 'Bookmark', 'id': 'https://www.bibso...\n",
      "Name: items, dtype: object\n"
     ]
    }
   ],
   "source": [
    "print(combined_df['items'].head())"
   ]
  },
  {
   "cell_type": "code",
   "execution_count": 22,
   "id": "b328d047-d291-4deb-bdb7-1332c0439bf1",
   "metadata": {},
   "outputs": [
    {
     "data": {
      "text/plain": [
       "Index(['items', 'types.Bookmark.pluralLabel', 'types.Publication.pluralLabel',\n",
       "       'types.GoldStandardPublication.pluralLabel',\n",
       "       'types.GoldStandardBookmark.pluralLabel', 'types.Tag.pluralLabel',\n",
       "       'types.User.pluralLabel', 'types.Group.pluralLabel',\n",
       "       'types.Sphere.pluralLabel', 'properties.count.valueType',\n",
       "       'properties.date.valueType', 'properties.changeDate.valueType',\n",
       "       'properties.url.valueType', 'properties.id.valueType',\n",
       "       'properties.tags.valueType', 'properties.user.valueType', 'Suchterm'],\n",
       "      dtype='object')"
      ]
     },
     "execution_count": 22,
     "metadata": {},
     "output_type": "execute_result"
    }
   ],
   "source": [
    "combined_df.keys()"
   ]
  },
  {
   "cell_type": "code",
   "execution_count": 23,
   "id": "85702116-0bc3-4d5a-a082-8b8dc578437d",
   "metadata": {},
   "outputs": [
    {
     "data": {
      "text/plain": [
       "type[0    [{'type': 'Bookmark', 'id': 'https://www.bibso...\n",
       "1    [{'type': 'Bookmark', 'id': 'https://www.bibso...\n",
       "Name: items, dtype: object]"
      ]
     },
     "execution_count": 23,
     "metadata": {},
     "output_type": "execute_result"
    }
   ],
   "source": [
    "type[combined_df[\"items\"]]"
   ]
  },
  {
   "cell_type": "code",
   "execution_count": null,
   "id": "a7f2e597-02d4-46b0-9370-87e3fd8929eb",
   "metadata": {},
   "outputs": [],
   "source": []
  }
 ],
 "metadata": {
  "kernelspec": {
   "display_name": "Python 3 (ipykernel)",
   "language": "python",
   "name": "python3"
  },
  "language_info": {
   "codemirror_mode": {
    "name": "ipython",
    "version": 3
   },
   "file_extension": ".py",
   "mimetype": "text/x-python",
   "name": "python",
   "nbconvert_exporter": "python",
   "pygments_lexer": "ipython3",
   "version": "3.12.7"
  }
 },
 "nbformat": 4,
 "nbformat_minor": 5
}
